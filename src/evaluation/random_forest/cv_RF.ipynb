{
 "cells": [
  {
   "cell_type": "code",
   "execution_count": 1,
   "metadata": {},
   "outputs": [],
   "source": [
    "from sklearn.ensemble import RandomForestRegressor\n",
    "from sklearn.metrics import r2_score\n",
    "from sklearn.metrics import mean_squared_error\n",
    "from tqdm import tqdm\n",
    "from sklearn.preprocessing import StandardScaler\n",
    "import pandas as pd\n",
    "import numpy as np\n",
    "import pickle \n"
   ]
  },
  {
   "cell_type": "code",
   "execution_count": 2,
   "metadata": {},
   "outputs": [],
   "source": [
    "#import data\n",
    "df = pd.read_csv('../data/df_20210510.csv', index_col=0)\n",
    "df = df.dropna()\n",
    "df= df[df.index != 'CN-Cng']"
   ]
  },
  {
   "cell_type": "code",
   "execution_count": 3,
   "metadata": {},
   "outputs": [],
   "source": [
    "df=df.drop(columns=['plant_functional_type', 'classid', 'koeppen_code','igbp_land_use', \n",
    "                         'date','NEE_VUT_REF','lon', 'lat', 'elv','LE_F_MDS','c4','date','whc'])"
   ]
  },
  {
   "cell_type": "code",
   "execution_count": 4,
   "metadata": {},
   "outputs": [
    {
     "data": {
      "text/plain": [
       "53"
      ]
     },
     "execution_count": 4,
     "metadata": {},
     "output_type": "execute_result"
    }
   ],
   "source": [
    "sites = df.index.unique()\n",
    "len(sites)"
   ]
  },
  {
   "cell_type": "code",
   "execution_count": 5,
   "metadata": {},
   "outputs": [],
   "source": [
    "cv_r2 = []\n",
    "cv_mse = []\n",
    "cv_pred=[]"
   ]
  },
  {
   "cell_type": "code",
   "execution_count": 19,
   "metadata": {},
   "outputs": [
    {
     "name": "stderr",
     "output_type": "stream",
     "text": [
      "100%|██████████| 53/53 [7:05:27<00:00, 481.64s/it]  \n"
     ]
    }
   ],
   "source": [
    "for i in tqdm(range(len(sites))):\n",
    "    train = df[df.index != sites[i]]\n",
    "    test = df[df.index == sites[i]]\n",
    "    scaler = StandardScaler()\n",
    "    regr = RandomForestRegressor(n_estimators=200, max_depth=10, random_state=0)\n",
    "    X_train = train.drop(columns=[\"GPP_NT_VUT_REF\"]).values\n",
    "    X_train= scaler.fit_transform(X_train)\n",
    "    X_test = test.drop(columns=[\"GPP_NT_VUT_REF\"]).values\n",
    "    X_test=scaler.transform(X_test)\n",
    "    y_train = train['GPP_NT_VUT_REF'].values\n",
    "    y_test = test['GPP_NT_VUT_REF'].values\n",
    "    regr.fit(X_train,y_train)\n",
    "    preds = regr.predict(X_test)\n",
    "    cv_pred.append(preds)\n",
    "    cv_mse.append((sites[i],mean_squared_error(y_test,preds)))\n",
    "    cv_r2.append((sites[i],r2_score(y_test,preds)))"
   ]
  },
  {
   "cell_type": "code",
   "execution_count": 23,
   "metadata": {},
   "outputs": [],
   "source": [
    "# d = {\"site\": sites, \"preds\": cv_pred}\n",
    "# pickle.dump(d, open('RF_predictions_d10_n200.pkl', 'wb') , pickle.HIGHEST_PROTOCOL)\n",
    "# pickle.close()"
   ]
  },
  {
   "cell_type": "code",
   "execution_count": 41,
   "metadata": {},
   "outputs": [],
   "source": [
    "# d = {\"site\": sites, \"preds\": cv_pred}\n",
    "# table = pd.DataFrame(d)\n",
    "# table.to_csv(\"RF_predicitons_n200_d10.csv\",index=False)"
   ]
  },
  {
   "cell_type": "code",
   "execution_count": 39,
   "metadata": {},
   "outputs": [],
   "source": [
    "# mse=cv_mse"
   ]
  },
  {
   "cell_type": "code",
   "execution_count": 40,
   "metadata": {},
   "outputs": [],
   "source": [
    "# r2=cv_r2"
   ]
  },
  {
   "cell_type": "code",
   "execution_count": 41,
   "metadata": {},
   "outputs": [],
   "source": [
    "# mse=pd.DataFrame(mse)"
   ]
  },
  {
   "cell_type": "code",
   "execution_count": 42,
   "metadata": {},
   "outputs": [],
   "source": [
    "# r2=pd.DataFrame(r2)"
   ]
  },
  {
   "cell_type": "code",
   "execution_count": 40,
   "metadata": {},
   "outputs": [],
   "source": [
    "# d = {\"Site\": sites, \"R2\": r2[1], \"mse\":mse[1]}\n",
    "# table = pd.DataFrame(d)\n",
    "# table.to_csv(\"random_forest_r2_mse.csv\",index=False)"
   ]
  },
  {
   "cell_type": "code",
   "execution_count": null,
   "metadata": {},
   "outputs": [],
   "source": []
  },
  {
   "cell_type": "code",
   "execution_count": null,
   "metadata": {},
   "outputs": [],
   "source": []
  },
  {
   "cell_type": "code",
   "execution_count": null,
   "metadata": {},
   "outputs": [],
   "source": []
  },
  {
   "cell_type": "code",
   "execution_count": null,
   "metadata": {},
   "outputs": [],
   "source": []
  },
  {
   "cell_type": "code",
   "execution_count": null,
   "metadata": {},
   "outputs": [],
   "source": []
  }
 ],
 "metadata": {
  "kernelspec": {
   "display_name": "Python 3",
   "language": "python",
   "name": "python3"
  },
  "language_info": {
   "codemirror_mode": {
    "name": "ipython",
    "version": 3
   },
   "file_extension": ".py",
   "mimetype": "text/x-python",
   "name": "python",
   "nbconvert_exporter": "python",
   "pygments_lexer": "ipython3",
   "version": "3.8.5"
  }
 },
 "nbformat": 4,
 "nbformat_minor": 4
}
